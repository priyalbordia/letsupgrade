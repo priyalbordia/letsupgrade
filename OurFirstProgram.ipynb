{
  "nbformat": 4,
  "nbformat_minor": 0,
  "metadata": {
    "colab": {
      "name": "OurFirstProgram.ipynb",
      "provenance": []
    },
    "kernelspec": {
      "name": "python3",
      "display_name": "Python 3"
    },
    "language_info": {
      "name": "python"
    }
  },
  "cells": [
    {
      "cell_type": "code",
      "metadata": {
        "colab": {
          "base_uri": "https://localhost:8080/"
        },
        "id": "IMBSCsk2QPaK",
        "outputId": "3b0833c7-7218-4e33-d343-8587805f07fc"
      },
      "source": [
        "print(\"Hello\")"
      ],
      "execution_count": null,
      "outputs": [
        {
          "output_type": "stream",
          "text": [
            "Hello\n"
          ],
          "name": "stdout"
        }
      ]
    },
    {
      "cell_type": "code",
      "metadata": {
        "id": "-BZ9KLi7Qdsr"
      },
      "source": [
        "# Our First Project - Calculator "
      ],
      "execution_count": null,
      "outputs": []
    },
    {
      "cell_type": "code",
      "metadata": {
        "id": "dK2yP7E6Rc-c"
      },
      "source": [
        "# Step 1 -> Perfom addition in Python \n",
        "# Step 2 -> store the result in some variable and show the result \n",
        "# Step 3 -> Take user Input for dynamic Addition"
      ],
      "execution_count": null,
      "outputs": []
    },
    {
      "cell_type": "code",
      "metadata": {
        "colab": {
          "base_uri": "https://localhost:8080/"
        },
        "id": "yTlAUNRPR-id",
        "outputId": "1a127384-0839-4e70-eae9-cc0087261dfc"
      },
      "source": [
        "# Step 1 -> \n",
        "\n",
        "20 + 30 "
      ],
      "execution_count": null,
      "outputs": [
        {
          "output_type": "execute_result",
          "data": {
            "text/plain": [
              "50"
            ]
          },
          "metadata": {
            "tags": []
          },
          "execution_count": 10
        }
      ]
    },
    {
      "cell_type": "code",
      "metadata": {
        "id": "0uXuhKDRSNzt"
      },
      "source": [
        "ourSum = 20 + 30"
      ],
      "execution_count": null,
      "outputs": []
    },
    {
      "cell_type": "code",
      "metadata": {
        "colab": {
          "base_uri": "https://localhost:8080/"
        },
        "id": "z1FOUcrVSXbc",
        "outputId": "5ca0f0e4-35b9-4eca-f1e1-469a8f5221e0"
      },
      "source": [
        "ourSum"
      ],
      "execution_count": null,
      "outputs": [
        {
          "output_type": "execute_result",
          "data": {
            "text/plain": [
              "50"
            ]
          },
          "metadata": {
            "tags": []
          },
          "execution_count": 13
        }
      ]
    },
    {
      "cell_type": "code",
      "metadata": {
        "colab": {
          "base_uri": "https://localhost:8080/"
        },
        "id": "haimWFvxSnRl",
        "outputId": "b22f3323-6d59-4502-fdd9-7fabe477d1f7"
      },
      "source": [
        "ourSum"
      ],
      "execution_count": null,
      "outputs": [
        {
          "output_type": "execute_result",
          "data": {
            "text/plain": [
              "50"
            ]
          },
          "metadata": {
            "tags": []
          },
          "execution_count": 14
        }
      ]
    },
    {
      "cell_type": "code",
      "metadata": {
        "colab": {
          "base_uri": "https://localhost:8080/"
        },
        "id": "HDbGKYx3SrRt",
        "outputId": "fed4e738-bc50-4098-db9c-0fd959eb89ac"
      },
      "source": [
        "print(ourSum)"
      ],
      "execution_count": null,
      "outputs": [
        {
          "output_type": "stream",
          "text": [
            "50\n"
          ],
          "name": "stdout"
        }
      ]
    },
    {
      "cell_type": "code",
      "metadata": {
        "colab": {
          "base_uri": "https://localhost:8080/"
        },
        "id": "Ikg3khW-TBds",
        "outputId": "5aceaf79-22c4-47c5-ea3d-c99ece1e16b2"
      },
      "source": [
        "# Step 3 how to take input and convert string to int \n",
        "\n",
        "a = input(\"Enter your first Number \")"
      ],
      "execution_count": null,
      "outputs": [
        {
          "output_type": "stream",
          "text": [
            "Enter your first Number 25\n"
          ],
          "name": "stdout"
        }
      ]
    },
    {
      "cell_type": "code",
      "metadata": {
        "colab": {
          "base_uri": "https://localhost:8080/",
          "height": 35
        },
        "id": "HmxW14NPTsL2",
        "outputId": "a4aeedb4-3ae6-44aa-dab7-1a638e5f676b"
      },
      "source": [
        "a"
      ],
      "execution_count": null,
      "outputs": [
        {
          "output_type": "execute_result",
          "data": {
            "application/vnd.google.colaboratory.intrinsic+json": {
              "type": "string"
            },
            "text/plain": [
              "'25'"
            ]
          },
          "metadata": {
            "tags": []
          },
          "execution_count": 17
        }
      ]
    },
    {
      "cell_type": "code",
      "metadata": {
        "colab": {
          "base_uri": "https://localhost:8080/"
        },
        "id": "9XdRkSAKTwhM",
        "outputId": "0a398d71-3fe2-413a-a228-2d90a390d4f9"
      },
      "source": [
        "type(a)"
      ],
      "execution_count": null,
      "outputs": [
        {
          "output_type": "execute_result",
          "data": {
            "text/plain": [
              "str"
            ]
          },
          "metadata": {
            "tags": []
          },
          "execution_count": 18
        }
      ]
    },
    {
      "cell_type": "code",
      "metadata": {
        "id": "zxEzsZ4EVhO2"
      },
      "source": [
        "# Converting a from string to int \n",
        "\n",
        "a= int(a)"
      ],
      "execution_count": null,
      "outputs": []
    },
    {
      "cell_type": "code",
      "metadata": {
        "colab": {
          "base_uri": "https://localhost:8080/"
        },
        "id": "6WWDffEXVvHk",
        "outputId": "2f75e1f6-e814-40e3-c812-8d5d81ba2a3e"
      },
      "source": [
        "type(a)"
      ],
      "execution_count": null,
      "outputs": [
        {
          "output_type": "execute_result",
          "data": {
            "text/plain": [
              "int"
            ]
          },
          "metadata": {
            "tags": []
          },
          "execution_count": 22
        }
      ]
    },
    {
      "cell_type": "code",
      "metadata": {
        "colab": {
          "base_uri": "https://localhost:8080/"
        },
        "id": "H6gcFwc_VzZs",
        "outputId": "6cba141c-a8ff-4a08-d8a8-ffd59d74ecb4"
      },
      "source": [
        "b = input(\"Enter your second Number\")"
      ],
      "execution_count": null,
      "outputs": [
        {
          "output_type": "stream",
          "text": [
            "Enter your second Number 5\n"
          ],
          "name": "stdout"
        }
      ]
    },
    {
      "cell_type": "code",
      "metadata": {
        "id": "MKHI2AaxV738"
      },
      "source": [
        "b = int(b)"
      ],
      "execution_count": null,
      "outputs": []
    },
    {
      "cell_type": "code",
      "metadata": {
        "colab": {
          "base_uri": "https://localhost:8080/"
        },
        "id": "BfvQjPCIWBL8",
        "outputId": "29a7c1e8-bf2a-41fa-9013-3b4a6fe8cd5c"
      },
      "source": [
        "b"
      ],
      "execution_count": null,
      "outputs": [
        {
          "output_type": "execute_result",
          "data": {
            "text/plain": [
              "5"
            ]
          },
          "metadata": {
            "tags": []
          },
          "execution_count": 28
        }
      ]
    },
    {
      "cell_type": "code",
      "metadata": {
        "id": "ZDEenGl5WE3k"
      },
      "source": [
        "sum1 = a + b"
      ],
      "execution_count": null,
      "outputs": []
    },
    {
      "cell_type": "code",
      "metadata": {
        "colab": {
          "base_uri": "https://localhost:8080/"
        },
        "id": "hYBpYcOHWaxN",
        "outputId": "828a2287-f1ca-4672-967b-eb6b9198fedc"
      },
      "source": [
        "print(\"Your addition is \", sum1)"
      ],
      "execution_count": null,
      "outputs": [
        {
          "output_type": "stream",
          "text": [
            "Your addition is  30\n"
          ],
          "name": "stdout"
        }
      ]
    },
    {
      "cell_type": "code",
      "metadata": {
        "colab": {
          "base_uri": "https://localhost:8080/"
        },
        "id": "aWpojfjzWf1s",
        "outputId": "cf7aeea2-80c6-4c4d-e639-c8b70bddfb40"
      },
      "source": [
        "a = int(input(\"First Number \"))\n",
        "b = int(input(\"Second Number\" ))\n",
        "sum2 = a + b\n",
        "print(\"Our Sum is \", sum2) "
      ],
      "execution_count": null,
      "outputs": [
        {
          "output_type": "stream",
          "text": [
            "First Number 59\n",
            "Second Number71\n",
            "Our Sum is  130\n"
          ],
          "name": "stdout"
        }
      ]
    },
    {
      "cell_type": "code",
      "metadata": {
        "id": "GXO4QQXhWw7s"
      },
      "source": [
        "# Today Agenda "
      ],
      "execution_count": null,
      "outputs": []
    },
    {
      "cell_type": "code",
      "metadata": {
        "id": "tgGFkij9UBM9"
      },
      "source": [
        "# 1. Number guessing App in Python \n",
        "  # 1. Learn about How to Use Modules \n",
        "  # 1.5 Boolean\n",
        "  # 2. Learn about user input \n",
        "  # 3. Check the user data and computer generated data\n",
        "  # 4. play with decision making algo \n",
        "  # 4. Print it if it is right \n",
        "\n",
        "  \n",
        "# 2. Contact Book App in Python\n",
        "  # 1. We will understand List, Dict, Set, tuple, \n",
        "  # 2. For Loops \n",
        "  # 3. How to store data in Dict\n",
        "  # 4. How to print the dict "
      ],
      "execution_count": null,
      "outputs": []
    },
    {
      "cell_type": "code",
      "metadata": {
        "id": "crXGFhOcUQps"
      },
      "source": [
        "# 1. Lottery in Python\n",
        "\n",
        "# - User will buy the lottery ticket - max tickets avaliable are 10\n",
        "# - User data is going to be store in the collection variable \n",
        "# - After all ticktes are sold, \n",
        "# - Computer will automaicatlly pick one random user \n",
        "# - And computer will give the whole amount to that user "
      ],
      "execution_count": null,
      "outputs": []
    },
    {
      "cell_type": "code",
      "metadata": {
        "id": "Y6-8qxl5WFPK"
      },
      "source": [
        "maxTicketsAvalibale = 5"
      ],
      "execution_count": null,
      "outputs": []
    },
    {
      "cell_type": "code",
      "metadata": {
        "id": "5YkaaFMgWPNz"
      },
      "source": [
        "participants = [ \"Sai Kumar\", \"khader\", \"Neha \", \"yaswanth\",  \"Aslam \"  ]"
      ],
      "execution_count": null,
      "outputs": []
    },
    {
      "cell_type": "code",
      "metadata": {
        "colab": {
          "base_uri": "https://localhost:8080/",
          "height": 35
        },
        "id": "yAJV6-1pabe7",
        "outputId": "f14a9472-ea22-4b58-f6f9-f55c6c0ab1d0"
      },
      "source": [
        "participants[0]"
      ],
      "execution_count": null,
      "outputs": [
        {
          "output_type": "execute_result",
          "data": {
            "application/vnd.google.colaboratory.intrinsic+json": {
              "type": "string"
            },
            "text/plain": [
              "'Sai Kumar'"
            ]
          },
          "metadata": {
            "tags": []
          },
          "execution_count": 39
        }
      ]
    },
    {
      "cell_type": "code",
      "metadata": {
        "id": "YytMOqgMXYRr"
      },
      "source": [
        "# For generating a random number who will be our winner \n",
        "import random"
      ],
      "execution_count": null,
      "outputs": []
    },
    {
      "cell_type": "code",
      "metadata": {
        "id": "rsnTCdgrYGlb"
      },
      "source": [
        "n = random.randint(0,maxTicketsAvalibale-1)"
      ],
      "execution_count": null,
      "outputs": []
    },
    {
      "cell_type": "code",
      "metadata": {
        "colab": {
          "base_uri": "https://localhost:8080/",
          "height": 35
        },
        "id": "KfRe3Ut9Y1_k",
        "outputId": "546de4df-27a6-49a4-eab0-9f0630e4289c"
      },
      "source": [
        "participants[n]"
      ],
      "execution_count": null,
      "outputs": [
        {
          "output_type": "execute_result",
          "data": {
            "application/vnd.google.colaboratory.intrinsic+json": {
              "type": "string"
            },
            "text/plain": [
              "'Sai Kumar'"
            ]
          },
          "metadata": {
            "tags": []
          },
          "execution_count": 35
        }
      ]
    },
    {
      "cell_type": "code",
      "metadata": {
        "id": "YU2qAC4pXxPr"
      },
      "source": [
        "# Assignment - 2\n",
        "\n",
        "# get random names of the people in the list using For loop, Maxmium participant variable and input() function\n",
        "# and then get your lottery run "
      ],
      "execution_count": null,
      "outputs": []
    },
    {
      "cell_type": "code",
      "metadata": {
        "id": "igUxdhLjZFWz"
      },
      "source": [
        "# 2. Contact Book App in Python\n",
        "  # 1. We will understand  Dict\n",
        "  # 2. For Loops \n",
        "  # 3. How to store data in Dict\n",
        "  # 4. How to print the dict "
      ],
      "execution_count": null,
      "outputs": []
    },
    {
      "cell_type": "code",
      "metadata": {
        "id": "9ew9ckqbcdRI"
      },
      "source": [
        "d = {\n",
        "    \"age\":50,\n",
        "    \"email\":\"deep@luc.to\",\n",
        "    \"name\":\"deep samanta\"\n",
        "    }\n",
        "    \n",
        "    # Dict "
      ],
      "execution_count": null,
      "outputs": []
    },
    {
      "cell_type": "code",
      "metadata": {
        "id": "IYvD915fdl26"
      },
      "source": [
        "e = [ 28, \"deep@luc.to\",\"deep smanata\"] # list "
      ],
      "execution_count": null,
      "outputs": []
    },
    {
      "cell_type": "code",
      "metadata": {
        "colab": {
          "base_uri": "https://localhost:8080/",
          "height": 35
        },
        "id": "5Ivtfak_drO5",
        "outputId": "61d16e42-42e4-4189-c83b-0454b2eb8cf5"
      },
      "source": [
        "d[\"name\"]"
      ],
      "execution_count": null,
      "outputs": [
        {
          "output_type": "execute_result",
          "data": {
            "application/vnd.google.colaboratory.intrinsic+json": {
              "type": "string"
            },
            "text/plain": [
              "'deep samanta'"
            ]
          },
          "metadata": {
            "tags": []
          },
          "execution_count": 48
        }
      ]
    },
    {
      "cell_type": "code",
      "metadata": {
        "colab": {
          "base_uri": "https://localhost:8080/"
        },
        "id": "MetaPGFkeWWq",
        "outputId": "4d8bcc5e-0241-400e-ee8c-0b20ed2a5312"
      },
      "source": [
        "e[0]"
      ],
      "execution_count": null,
      "outputs": [
        {
          "output_type": "execute_result",
          "data": {
            "text/plain": [
              "28"
            ]
          },
          "metadata": {
            "tags": []
          },
          "execution_count": 46
        }
      ]
    },
    {
      "cell_type": "code",
      "metadata": {
        "id": "gS9DkKqjeayB"
      },
      "source": [
        "#For loop in python"
      ],
      "execution_count": null,
      "outputs": []
    },
    {
      "cell_type": "code",
      "metadata": {
        "colab": {
          "base_uri": "https://localhost:8080/"
        },
        "id": "gj3PgqC_fk8y",
        "outputId": "547c5001-1e12-40df-c400-44178a2e0e92"
      },
      "source": [
        "print(\"I love LU \")\n",
        "print(\"I love LU \")\n",
        "print(\"I love LU \")\n",
        "print(\"I love LU \")\n",
        "print(\"I love LU \")\n",
        "print(\"I love LU \")\n",
        "print(\"I love LU \")\n"
      ],
      "execution_count": null,
      "outputs": [
        {
          "output_type": "stream",
          "text": [
            "I love LU \n",
            "I love LU \n",
            "I love LU \n",
            "I love LU \n",
            "I love LU \n",
            "I love LU \n",
            "I love LU \n"
          ],
          "name": "stdout"
        }
      ]
    },
    {
      "cell_type": "code",
      "metadata": {
        "colab": {
          "base_uri": "https://localhost:8080/"
        },
        "id": "JWd13Waaf3ty",
        "outputId": "e7b44572-5189-49f2-cabc-d6f408366b0d"
      },
      "source": [
        "for i in range(10):\n",
        "  print(\"I love LU \")"
      ],
      "execution_count": null,
      "outputs": [
        {
          "output_type": "stream",
          "text": [
            "I love LU \n",
            "I love LU \n",
            "I love LU \n",
            "I love LU \n",
            "I love LU \n",
            "I love LU \n",
            "I love LU \n",
            "I love LU \n",
            "I love LU \n",
            "I love LU \n"
          ],
          "name": "stdout"
        }
      ]
    },
    {
      "cell_type": "code",
      "metadata": {
        "id": "bcIzvvI1gAx6",
        "colab": {
          "base_uri": "https://localhost:8080/",
          "height": 35
        },
        "outputId": "112a570c-fcf9-4b97-9daa-3dd3857abdbd"
      },
      "source": [
        "# Yesterday Assignment -2 \n",
        "\n",
        "# get random names of the people in the list using For loop, Maxmium participant variable and input() function\n",
        "# and then get your lottery run \n",
        "\n",
        "maxTicketsAvalibale = 5\n",
        "participants = [ \"Sai Kumar\", \"khader\", \"Neha \", \"yaswanth\",  \"Aslam \"  ]\n",
        "import random\n",
        "n = random.randint(0,maxTicketsAvalibale-1)\n",
        "participants[n]\n",
        "\n"
      ],
      "execution_count": null,
      "outputs": [
        {
          "output_type": "execute_result",
          "data": {
            "application/vnd.google.colaboratory.intrinsic+json": {
              "type": "string"
            },
            "text/plain": [
              "'Neha '"
            ]
          },
          "metadata": {
            "tags": []
          },
          "execution_count": 1
        }
      ]
    },
    {
      "cell_type": "code",
      "metadata": {
        "colab": {
          "base_uri": "https://localhost:8080/"
        },
        "id": "jKT8sViedw6J",
        "outputId": "397fb146-dc5a-4410-88dc-060136751738"
      },
      "source": [
        "import random\n",
        "\n",
        "maxTicketsAvalibale = int(input(\"Enter the maximum tickets avaiable \"))\n",
        "\n",
        "participants = [] \n",
        "\n",
        "for temp in range(maxTicketsAvalibale):\n",
        "  st = \"Ënter the participant name - \"+ str(temp + 1) + \" - \" \n",
        "  name = input(st)\n",
        "  participants.append(name)\n",
        "\n",
        "print(\"All our participants - \",participants)\n",
        "\n",
        "n = random.randint(0,maxTicketsAvalibale-1)\n",
        "\n",
        "print(\"Winner of the lottery - \",participants[n])\n"
      ],
      "execution_count": null,
      "outputs": [
        {
          "output_type": "stream",
          "text": [
            "Enter the maximum tickets avaiable 3\n",
            "Ënter the participant name - 1 - BASHA \n",
            "Ënter the participant name - 2 - Santosh \n",
            "Ënter the participant name - 3 - Mahindran\n",
            "All our participants -  ['BASHA ', 'Santosh ', 'Mahindran']\n",
            "Winner of the lottery -  Mahindran\n"
          ],
          "name": "stdout"
        }
      ]
    },
    {
      "cell_type": "code",
      "metadata": {
        "colab": {
          "base_uri": "https://localhost:8080/"
        },
        "id": "V_aqGmG9dzr4",
        "outputId": "eaf3f118-b188-4c6e-81fb-e4c75d88d95e"
      },
      "source": [
        "participants"
      ],
      "execution_count": null,
      "outputs": [
        {
          "output_type": "execute_result",
          "data": {
            "text/plain": [
              "['BASHA ', 'Santosh ', 'Mahindran']"
            ]
          },
          "metadata": {
            "tags": []
          },
          "execution_count": 12
        }
      ]
    },
    {
      "cell_type": "code",
      "metadata": {
        "id": "DOEHtACBioHC"
      },
      "source": [
        "participants.append(\"Sai\")"
      ],
      "execution_count": null,
      "outputs": []
    },
    {
      "cell_type": "code",
      "metadata": {
        "colab": {
          "base_uri": "https://localhost:8080/"
        },
        "id": "ngIV2Po8iv7Y",
        "outputId": "826dc46a-75f5-4e1a-a3bb-e1d373fc7b8f"
      },
      "source": [
        "participants"
      ],
      "execution_count": null,
      "outputs": [
        {
          "output_type": "execute_result",
          "data": {
            "text/plain": [
              "['BASHA ', 'Santosh ', 'Mahindran', 'Sai']"
            ]
          },
          "metadata": {
            "tags": []
          },
          "execution_count": 14
        }
      ]
    },
    {
      "cell_type": "code",
      "metadata": {
        "colab": {
          "base_uri": "https://localhost:8080/"
        },
        "id": "g3n-uHaUiw-Q",
        "outputId": "c7fd4235-d67c-48e2-fb5e-9fcdcc512f98"
      },
      "source": [
        "participants.index('Santosh ')"
      ],
      "execution_count": null,
      "outputs": [
        {
          "output_type": "execute_result",
          "data": {
            "text/plain": [
              "1"
            ]
          },
          "metadata": {
            "tags": []
          },
          "execution_count": 15
        }
      ]
    },
    {
      "cell_type": "code",
      "metadata": {
        "id": "uZX3A9CNi2pQ"
      },
      "source": [
        "participants.insert(2,\"Real ME\")"
      ],
      "execution_count": null,
      "outputs": []
    },
    {
      "cell_type": "code",
      "metadata": {
        "colab": {
          "base_uri": "https://localhost:8080/"
        },
        "id": "PXiw3nJRjCDp",
        "outputId": "ee744900-46da-4427-8785-0a129518ac87"
      },
      "source": [
        "participants"
      ],
      "execution_count": null,
      "outputs": [
        {
          "output_type": "execute_result",
          "data": {
            "text/plain": [
              "['BASHA ', 'Santosh ', 'Real ME', 'Mahindran', 'Sai']"
            ]
          },
          "metadata": {
            "tags": []
          },
          "execution_count": 17
        }
      ]
    },
    {
      "cell_type": "code",
      "metadata": {
        "id": "8d7wGNEqjDlA"
      },
      "source": [
        "# 2. Contact Book App in Python\n",
        "  # 1. We will understand  Dict\n",
        "  # 2. For Loops \n",
        "  # 3. How to store data in Dict\n",
        "  # 4. How to print the dict "
      ],
      "execution_count": null,
      "outputs": []
    },
    {
      "cell_type": "code",
      "metadata": {
        "id": "Q6eL1N6dmCVi"
      },
      "source": [
        "userDict = {\n",
        "    \"name\":\"saikiran\",\n",
        "    \"number1\":\"966245452\",\n",
        "    \"number2\":\"916376173\",\n",
        "    \"imageUrl\":\"https://stuff.mit.edu/afs/sipb/project/android/docs/design/media/multipane_view_tablet.png\",\n",
        "    \"email\":\"sai@letsupgrade.in\",\n",
        "    \"website\":\"LetsUpgrade.in\"\n",
        "}"
      ],
      "execution_count": null,
      "outputs": []
    },
    {
      "cell_type": "code",
      "metadata": {
        "colab": {
          "base_uri": "https://localhost:8080/"
        },
        "id": "AswGEP7PnbNH",
        "outputId": "2c36d897-5cca-47db-be64-b3115738aa45"
      },
      "source": [
        "howManyContact = 3\n",
        "\n",
        "contactDit = {}\n",
        "\n",
        "for i in range(howManyContact):\n",
        "    name = input(\"Ënter Name \" )\n",
        "    number1 = input(\"Ënter number1 \" )\n",
        "    number2 = input(\"Ënter number2 \" )\n",
        "    imageUrl = input(\"Ënter imageUrl \" )\n",
        "    email = input(\"Ënter email \" )\n",
        "    website = input(\"Ënter website \" )\n",
        "\n",
        "    contactDit[name] = {\n",
        "    \"name\":name,\n",
        "    \"number1\":number1,\n",
        "    \"number2\":number2,\n",
        "    \"imageUrl\":imageUrl,\n",
        "    \"email\":email,\n",
        "    \"website\":website\n",
        "    }\n"
      ],
      "execution_count": null,
      "outputs": [
        {
          "output_type": "stream",
          "text": [
            "Ënter Namesai\n",
            "Ënter number129836\n",
            "Ënter number229386\n",
            "Ënter imageUrljkagdf\n",
            "Ënter emailasoeifhf\n",
            "Ënter websitelsakjdfg\n",
            "Ënter Namehappy puffer\n",
            "Ënter number1213892389\n",
            "Ënter number22328348\n",
            "Ënter imageUrljksadf\n",
            "Ënter emaililadgf\n",
            "Ënter websiteaudgf\n",
            "Ënter NameNick \n",
            "Ënter number12983623\n",
            "Ënter number2928435\n",
            "Ënter imageUrllakjsdfg\n",
            "Ënter emaillkjasdfkf\n",
            "Ënter websiteksjdgf\n"
          ],
          "name": "stdout"
        }
      ]
    },
    {
      "cell_type": "code",
      "metadata": {
        "colab": {
          "base_uri": "https://localhost:8080/"
        },
        "id": "UP6j04jWoJLf",
        "outputId": "ff8db50f-9331-465f-cf74-f5811a84bcb0"
      },
      "source": [
        "contactDit"
      ],
      "execution_count": null,
      "outputs": [
        {
          "output_type": "execute_result",
          "data": {
            "text/plain": [
              "{'Nick ': {'email': 'lkjasdfkf',\n",
              "  'imageUrl': 'lakjsdfg',\n",
              "  'name': 'Nick ',\n",
              "  'number1': '2983623',\n",
              "  'number2': '928435',\n",
              "  'website': 'ksjdgf'},\n",
              " 'happy puffer': {'email': 'iladgf',\n",
              "  'imageUrl': 'jksadf',\n",
              "  'name': 'happy puffer',\n",
              "  'number1': '213892389',\n",
              "  'number2': '2328348',\n",
              "  'website': 'audgf'},\n",
              " 'sai': {'email': 'asoeifhf',\n",
              "  'imageUrl': 'jkagdf',\n",
              "  'name': 'sai',\n",
              "  'number1': '29836',\n",
              "  'number2': '29386',\n",
              "  'website': 'lsakjdfg'}}"
            ]
          },
          "metadata": {
            "tags": []
          },
          "execution_count": 26
        }
      ]
    },
    {
      "cell_type": "code",
      "metadata": {
        "colab": {
          "base_uri": "https://localhost:8080/"
        },
        "id": "1aq6qq72ol3J",
        "outputId": "00ac5dff-76cd-4b4a-fbe9-e9dbe9f112c9"
      },
      "source": [
        "contactDit.get(\"Nick \")"
      ],
      "execution_count": null,
      "outputs": [
        {
          "output_type": "execute_result",
          "data": {
            "text/plain": [
              "{'email': 'lkjasdfkf',\n",
              " 'imageUrl': 'lakjsdfg',\n",
              " 'name': 'Nick ',\n",
              " 'number1': '2983623',\n",
              " 'number2': '928435',\n",
              " 'website': 'ksjdgf'}"
            ]
          },
          "metadata": {
            "tags": []
          },
          "execution_count": 27
        }
      ]
    },
    {
      "cell_type": "code",
      "metadata": {
        "id": "omqVtZ1potLS"
      },
      "source": [
        "dit = {}"
      ],
      "execution_count": null,
      "outputs": []
    },
    {
      "cell_type": "code",
      "metadata": {
        "colab": {
          "base_uri": "https://localhost:8080/"
        },
        "id": "Rxk2eaGKqJQB",
        "outputId": "21f94f38-ed68-4bf7-a424-49f9488dc60b"
      },
      "source": [
        "dit"
      ],
      "execution_count": null,
      "outputs": [
        {
          "output_type": "execute_result",
          "data": {
            "text/plain": [
              "{}"
            ]
          },
          "metadata": {
            "tags": []
          },
          "execution_count": 29
        }
      ]
    },
    {
      "cell_type": "code",
      "metadata": {
        "id": "8kv-_wmVqKg_"
      },
      "source": [
        "dit[\"one\"] = 1"
      ],
      "execution_count": null,
      "outputs": []
    },
    {
      "cell_type": "code",
      "metadata": {
        "colab": {
          "base_uri": "https://localhost:8080/"
        },
        "id": "3RoJk-_zqOf4",
        "outputId": "1531db9d-2a3c-49cd-da0e-8b54a043cc18"
      },
      "source": [
        "dit"
      ],
      "execution_count": null,
      "outputs": [
        {
          "output_type": "execute_result",
          "data": {
            "text/plain": [
              "{'one': 1}"
            ]
          },
          "metadata": {
            "tags": []
          },
          "execution_count": 31
        }
      ]
    },
    {
      "cell_type": "code",
      "metadata": {
        "id": "ugMEvCEqqPYw"
      },
      "source": [
        "# Asignment 3 - \n",
        "\n",
        "# 1. Learn about in built functions of Python objects \n",
        "\n",
        "# a. List \n",
        "# b. Dict\n",
        "# c. Tuple\n",
        "# d. Set\n",
        "# e. String "
      ],
      "execution_count": null,
      "outputs": []
    },
    {
      "cell_type": "code",
      "metadata": {
        "id": "ojH5RnX8rXGn"
      },
      "source": [
        ""
      ],
      "execution_count": null,
      "outputs": []
    }
  ]
}